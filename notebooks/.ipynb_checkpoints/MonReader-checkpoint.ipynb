{
 "cells": [
  {
   "cell_type": "code",
   "execution_count": null,
   "metadata": {
    "collapsed": true,
    "is_executing": true
   },
   "outputs": [],
   "source": [
    "from tensorflow.keras.preprocessing.image import ImageDataGenerator\n",
    "\n",
    "train_datagen = ImageDataGenerator(rescale=1./255, validation_split=0.2)  # adjust as needed\n",
    "test_datagen = ImageDataGenerator(rescale=1./255)\n",
    "\n",
    "training_data_path = \"../data/raw/images/training\"\n",
    "testing_data_path = \"../data/raw/images/testing\"\n",
    "\n",
    "train_generator = train_datagen.flow_from_directory(training_data_path, target_size=(150, 150),batch_size=32,\n",
    "                                                    class_mode='binary', subset='training')\n",
    "\n",
    "validation_generator = train_datagen.flow_from_directory(training_data_path, target_size=(150, 150),\n",
    "                                                         batch_size=32, class_mode='binary',subset='validation')\n",
    "\n",
    "test_generator = test_datagen.flow_from_directory(testing_data_path,\n",
    "                                                            shuffle=True,\n",
    "                                                            target_size=(150, 150),\n",
    "                                                            batch_size=32,\n",
    "                                                            class_mode='binary',\n",
    "                                                            subset='testing')"
   ]
  },
  {
   "cell_type": "code",
   "execution_count": null,
   "outputs": [],
   "source": [],
   "metadata": {
    "collapsed": false
   }
  }
 ],
 "metadata": {
  "kernelspec": {
   "display_name": "Python 3",
   "language": "python",
   "name": "python3"
  },
  "language_info": {
   "codemirror_mode": {
    "name": "ipython",
    "version": 2
   },
   "file_extension": ".py",
   "mimetype": "text/x-python",
   "name": "python",
   "nbconvert_exporter": "python",
   "pygments_lexer": "ipython2",
   "version": "2.7.6"
  }
 },
 "nbformat": 4,
 "nbformat_minor": 0
}
